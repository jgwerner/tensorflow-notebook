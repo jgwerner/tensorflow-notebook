{
 "cells": [
  {
   "cell_type": "code",
   "execution_count": null,
   "id": "3373d249",
   "metadata": {},
   "outputs": [],
   "source": [
    "#General data analysis and visualisation libraries:\n",
    "import time\n",
    "s=time.time()\n",
    "import os\n",
    "import pandas as pd\n",
    "import numpy as np\n",
    "from pyarrow import csv\n",
    "import tables\n",
    "import dask\n",
    "import time\n",
    "import h5py\n",
    "from dask import dataframe as dd\n",
    "import seaborn as sns\n",
    "pd.options.display.max_rows = 999\n",
    "\n",
    "# Dimensionality reduction libraries:\n",
    "#PCA\n",
    "from sklearn.decomposition import PCA\n",
    "#TSNE\n",
    "from sklearn.manifold import TSNE\n",
    "#UMAP\n",
    "import umap.umap_ as umap\n",
    "\n",
    "# Machine learning libraries:\n",
    "#prep\n",
    "from sklearn.model_selection import train_test_split\n",
    "from sklearn.preprocessing import StandardScaler\n",
    "\n",
    "#machine learning\n",
    "import sklearn\n",
    "from sklearn.linear_model import LinearRegression\n",
    "from sklearn.linear_model import SGDRegressor\n",
    "from sklearn.tree import DecisionTreeClassifier , plot_tree\n",
    "from sklearn.ensemble import RandomForestClassifier\n",
    "from sklearn.ensemble import RandomForestRegressor\n",
    "from sklearn import tree\n",
    "from sklearn.svm import SVC\n",
    "\n",
    "#evaluation\n",
    "from sklearn.model_selection import cross_val_score\n",
    "from sklearn import metrics\n",
    "from sklearn.metrics import r2_score\n",
    "\n",
    "import keras\n",
    "from keras.models import Sequential\n",
    "from keras.layers import Activation\n",
    "from keras.layers.core import Dense\n",
    "from keras.optimizers import Adam\n",
    "from keras.metrics import categorical_crossentropy\n",
    "from keras.preprocessing.image import ImageDataGenerator\n",
    "from tensorflow.keras.layers import BatchNormalization\n",
    "from keras.layers.convolutional import Conv2D\n",
    "\n",
    "import tensorflow as tf\n",
    "from tensorflow import keras\n",
    "from tensorflow.keras.models import Sequential\n",
    "from tensorflow.keras.layers import Activation, Dense, BatchNormalization, Conv2D\n",
    "from tensorflow.keras.optimizers import Adam\n",
    "from tensorflow.keras.metrics import *\n",
    "from tensorflow.keras.preprocessing.image import ImageDataGenerator\n",
    "\n",
    "import warnings\n",
    "import scipy.linalg\n",
    "warnings.filterwarnings('ignore')\n",
    "import matplotlib.pyplot as plt\n",
    "\n",
    "\n",
    "\n",
    "e=time.time()\n",
    "print('imported in: {} seconds'.format(round(e-s,3)))"
   ]
  },
  {
   "cell_type": "markdown",
   "id": "6ac2b3aa",
   "metadata": {},
   "source": [
    "imported in: 9.162 seconds\n"
   ]
  },
  {
   "cell_type": "markdown",
   "id": "796a81f1",
   "metadata": {},
   "source": [
    "Check for GPU:"
   ]
  },
  {
   "cell_type": "code",
   "execution_count": null,
   "id": "4677f359",
   "metadata": {},
   "outputs": [],
   "source": [
    "import tensorflow as tf\n",
    "print(\"Num GPUs Available: \", len(tf.config.experimental.list_physical_devices('GPU')))"
   ]
  },
  {
   "cell_type": "markdown",
   "id": "13d9fa7f",
   "metadata": {},
   "source": [
    "<br><br>\n",
    "### _Create high-m (long) data_\n",
    "10m rows"
   ]
  },
  {
   "cell_type": "code",
   "execution_count": null,
   "id": "1635e9b9",
   "metadata": {},
   "outputs": [],
   "source": [
    "xlong = np.reshape(np.random.rand(10000000), (10000000,1))"
   ]
  },
  {
   "cell_type": "code",
   "execution_count": null,
   "id": "e9d88970",
   "metadata": {},
   "outputs": [],
   "source": [
    "any(xlong<0), any(xlong>1)"
   ]
  },
  {
   "cell_type": "code",
   "execution_count": null,
   "id": "0d191268",
   "metadata": {},
   "outputs": [],
   "source": [
    "xlong.shape"
   ]
  },
  {
   "cell_type": "markdown",
   "id": "32864919",
   "metadata": {},
   "source": [
    "_Target variable for long_"
   ]
  },
  {
   "cell_type": "code",
   "execution_count": null,
   "id": "6c551773",
   "metadata": {},
   "outputs": [],
   "source": [
    "ylong= (20*xlong) - 5 +  np.random.rand(10000000,1)/10\n",
    "# y=20x -5 + noise"
   ]
  },
  {
   "cell_type": "markdown",
   "id": "26f64355",
   "metadata": {},
   "source": [
    "\n",
    "##### Hidden formula for xlong: y=20x-5"
   ]
  },
  {
   "cell_type": "markdown",
   "id": "980bbc74",
   "metadata": {},
   "source": [
    "<br><br>\n",
    "### _Create high-n (wide) data_"
   ]
  },
  {
   "cell_type": "code",
   "execution_count": null,
   "id": "38a6e800",
   "metadata": {},
   "outputs": [],
   "source": [
    "np.random.rand(50,50)"
   ]
  },
  {
   "cell_type": "code",
   "execution_count": null,
   "id": "6371f193",
   "metadata": {},
   "outputs": [],
   "source": [
    "xwide = np.random.rand(3000,3000)"
   ]
  },
  {
   "cell_type": "code",
   "execution_count": null,
   "id": "888ae18b",
   "metadata": {},
   "outputs": [],
   "source": [
    "i=1\n",
    "temp=-5\n",
    "for c in xwide.T:\n",
    "    temp += (c*i)\n",
    "    i+=1"
   ]
  },
  {
   "cell_type": "code",
   "execution_count": null,
   "id": "b1cd2a55",
   "metadata": {},
   "outputs": [],
   "source": [
    "ywide=temp"
   ]
  },
  {
   "cell_type": "code",
   "execution_count": null,
   "id": "b84cfd3a",
   "metadata": {},
   "outputs": [],
   "source": [
    "ywide.shape"
   ]
  },
  {
   "cell_type": "markdown",
   "id": "a8d8a659",
   "metadata": {},
   "source": [
    "Adding the ones:"
   ]
  },
  {
   "cell_type": "code",
   "execution_count": null,
   "id": "f5cd0c39",
   "metadata": {},
   "outputs": [],
   "source": [
    "ones_long = np.c_[np.ones((10000000, 1)), xlong]\n",
    "ones_wide = np.c_[np.ones((3000, 1)), xwide]"
   ]
  },
  {
   "cell_type": "markdown",
   "id": "a2d65596",
   "metadata": {},
   "source": [
    "### Amex dataset (raw)"
   ]
  },
  {
   "cell_type": "code",
   "execution_count": null,
   "id": "8edc6db2",
   "metadata": {},
   "outputs": [],
   "source": [
    "os.chdir('E:\\\\Ice Drive\\\\data\\\\amex\\\\amex-default-prediction\\\\clean')\n",
    "store = pd.HDFStore('train_grouped.hdf5')\n",
    "start=time.time()\n",
    "amex = store['data']\n",
    "end=time.time()\n",
    "print('Read time into pandas DataFrame was: {} seconds.'.format(end-start))"
   ]
  },
  {
   "cell_type": "markdown",
   "id": "f6b6f445",
   "metadata": {},
   "source": [
    "##### Load labels and join onto amex DataFrame"
   ]
  },
  {
   "cell_type": "code",
   "execution_count": null,
   "id": "0e28dff2",
   "metadata": {},
   "outputs": [],
   "source": [
    "os.chdir('E:\\\\Ice Drive\\\\data\\\\amex\\\\amex-default-prediction')\n",
    "labels = pd.read_csv('train_labels.csv', index_col='customer_ID')\n",
    "amex=amex.join(labels)"
   ]
  },
  {
   "cell_type": "markdown",
   "id": "b2303282",
   "metadata": {},
   "source": [
    "### Amex dataset (9PCs)"
   ]
  },
  {
   "cell_type": "code",
   "execution_count": null,
   "id": "e97697ef",
   "metadata": {},
   "outputs": [],
   "source": [
    "s=time.time()\n",
    "amex_mat=amex.to_numpy()\n",
    "amex = amex.fillna(np.nanmean(amex_mat[:,:156]))\n",
    "# PCA\n",
    "pca = PCA(n_components=9)\n",
    "principalComponents = pca.fit_transform(amex.iloc[:,:156])\n",
    "#JOIN LABELS\n",
    "amex_pca=pd.DataFrame(principalComponents, columns=['pc1','pc2','pc3','pc4','pc5','pc6','pc7','pc8','pc9',], index=amex.index).join(labels)\n",
    "t=time.time()"
   ]
  },
  {
   "cell_type": "code",
   "execution_count": null,
   "id": "bbebe495",
   "metadata": {},
   "outputs": [],
   "source": [
    "t-s"
   ]
  },
  {
   "cell_type": "markdown",
   "id": "31c11669",
   "metadata": {
    "scrolled": true
   },
   "source": [
    "#### Datasets:\n",
    "* long -> 10 mn rows, 2 column\n",
    "* wide -> 3k rows, 3k columns\n",
    "* amex -> 458913 rows, 157 columns\n",
    "* amex_pca -> 458913 rows, 10 columns"
   ]
  },
  {
   "cell_type": "markdown",
   "id": "2f42418c",
   "metadata": {},
   "source": [
    "**All data now ready**\n",
    "<br>\n",
    "_m_ dataset is very long\n",
    "<br>\n",
    "_n_ data set is very wide"
   ]
  },
  {
   "cell_type": "code",
   "execution_count": null,
   "id": "cec307cb",
   "metadata": {},
   "outputs": [],
   "source": [
    "X = xlong\n",
    "y = ylong\n",
    "# test/train\n",
    "X_train, X_test, y_train, y_test =train_test_split(\n",
    "                        X,y,\n",
    "                        test_size=0.33, random_state=42)"
   ]
  },
  {
   "cell_type": "markdown",
   "id": "35f89974",
   "metadata": {},
   "source": [
    "</br>Sklearn test:"
   ]
  },
  {
   "cell_type": "code",
   "execution_count": null,
   "id": "9c03b9c0",
   "metadata": {},
   "outputs": [],
   "source": [
    "reg = LinearRegression().fit(X_train, y_train)\n",
    "y_pred=reg.predict(X_test)"
   ]
  },
  {
   "cell_type": "code",
   "execution_count": null,
   "id": "fb2f53b0",
   "metadata": {},
   "outputs": [],
   "source": [
    "from sklearn.metrics import mean_absolute_percentage_error as err\n",
    "err(y_test, y_pred)"
   ]
  },
  {
   "cell_type": "code",
   "execution_count": null,
   "id": "6e4bc49a",
   "metadata": {},
   "outputs": [],
   "source": [
    "reg.coef_, reg.intercept_"
   ]
  },
  {
   "cell_type": "markdown",
   "id": "a8ab6605",
   "metadata": {},
   "source": [
    "### Normal equation"
   ]
  },
  {
   "cell_type": "code",
   "execution_count": null,
   "id": "784cdfcb",
   "metadata": {},
   "outputs": [],
   "source": [
    "X = xlong\n",
    "y = ylong\n",
    "# test/train\n",
    "X_train, X_test, y_train, y_test =train_test_split(\n",
    "                        ones_long,y,\n",
    "                        test_size=0.33, random_state=42)"
   ]
  },
  {
   "cell_type": "markdown",
   "id": "2e587e3e",
   "metadata": {},
   "source": [
    "#### Long"
   ]
  },
  {
   "cell_type": "code",
   "execution_count": null,
   "id": "cbf8130e",
   "metadata": {
    "scrolled": false
   },
   "outputs": [],
   "source": [
    "%%timeit -n 1\n",
    "np.linalg.inv(mb_train.T.dot(mb_train)).dot(mb_train.T).dot(ym_train)"
   ]
  },
  {
   "cell_type": "code",
   "execution_count": null,
   "id": "a77e38a0",
   "metadata": {},
   "outputs": [],
   "source": [
    "np.linalg.inv(X_train.T.dot(X_train)).dot(X_train.T).dot(y_train)"
   ]
  },
  {
   "cell_type": "markdown",
   "id": "005bc443",
   "metadata": {},
   "source": [
    "#### Wide"
   ]
  },
  {
   "cell_type": "code",
   "execution_count": null,
   "id": "8aaf38bc",
   "metadata": {
    "scrolled": true
   },
   "outputs": [],
   "source": [
    "%%timeit -n 1\n",
    "np.linalg.inv(nb_train.T.dot(nb_train)).dot(nb_train.T).dot(yn_train)"
   ]
  },
  {
   "cell_type": "markdown",
   "id": "8d548a49",
   "metadata": {},
   "source": [
    "### Moore-Penrose Pseudo inverse (using SVD)"
   ]
  },
  {
   "cell_type": "markdown",
   "id": "cc952630",
   "metadata": {},
   "source": [
    "#### Long"
   ]
  },
  {
   "cell_type": "code",
   "execution_count": null,
   "id": "7d47a72b",
   "metadata": {
    "scrolled": true
   },
   "outputs": [],
   "source": [
    "\n",
    "np.linalg.lstsq(X_train,y_train)"
   ]
  },
  {
   "cell_type": "markdown",
   "id": "1dbcfb05",
   "metadata": {},
   "source": [
    "#### Wide"
   ]
  },
  {
   "cell_type": "code",
   "execution_count": null,
   "id": "165e7791",
   "metadata": {
    "scrolled": false
   },
   "outputs": [],
   "source": [
    "%%timeit -n 1\n",
    "np.linalg.lstsq(nb_train,yn_train)[0]"
   ]
  },
  {
   "cell_type": "markdown",
   "id": "f9443179",
   "metadata": {},
   "source": [
    "#### Long"
   ]
  },
  {
   "cell_type": "code",
   "execution_count": null,
   "id": "f77e3c85",
   "metadata": {},
   "outputs": [],
   "source": [
    "%%timeit -n 1\n",
    "scipy.linalg.lstsq(mb_train,ym_train)[0]"
   ]
  },
  {
   "cell_type": "markdown",
   "id": "6905e583",
   "metadata": {},
   "source": [
    "#### Wide"
   ]
  },
  {
   "cell_type": "code",
   "execution_count": null,
   "id": "f20cc4bc",
   "metadata": {
    "scrolled": false
   },
   "outputs": [],
   "source": [
    "%%timeit -n 1\n",
    "scipy.linalg.lstsq(nb_train,yn_train)[0]"
   ]
  },
  {
   "cell_type": "markdown",
   "id": "ffa8f673",
   "metadata": {},
   "source": [
    "#### Long"
   ]
  },
  {
   "cell_type": "code",
   "execution_count": null,
   "id": "18d2e06c",
   "metadata": {},
   "outputs": [],
   "source": [
    "%%timeit -n 1\n",
    "np.linalg.pinv(mb_train).dot(mb_train)"
   ]
  },
  {
   "cell_type": "markdown",
   "id": "041e9c78",
   "metadata": {},
   "source": [
    "#### Wide Pinv"
   ]
  },
  {
   "cell_type": "code",
   "execution_count": null,
   "id": "ec241048",
   "metadata": {
    "scrolled": false
   },
   "outputs": [],
   "source": [
    "%%timeit -n 1\n",
    "np.linalg.pinv(nb_train).dot(yn_train)"
   ]
  },
  {
   "cell_type": "markdown",
   "id": "288a0300",
   "metadata": {},
   "source": [
    "#### long scikit-learn"
   ]
  },
  {
   "cell_type": "code",
   "execution_count": null,
   "id": "841938d7",
   "metadata": {},
   "outputs": [],
   "source": [
    "%%timeit -n 1\n",
    "reg = LinearRegression().fit(m, ym)"
   ]
  },
  {
   "cell_type": "markdown",
   "id": "47956636",
   "metadata": {},
   "source": [
    "#### Wide scikit-learn"
   ]
  },
  {
   "cell_type": "code",
   "execution_count": null,
   "id": "879cd581",
   "metadata": {
    "scrolled": false
   },
   "outputs": [],
   "source": [
    "%%timeit -n 1\n",
    "reg = LinearRegression().fit(n, yn)"
   ]
  },
  {
   "cell_type": "markdown",
   "id": "d87f348e",
   "metadata": {},
   "source": [
    "### Gradient Descent (batch)"
   ]
  },
  {
   "cell_type": "markdown",
   "id": "53429df1",
   "metadata": {},
   "source": [
    "#### Wide"
   ]
  },
  {
   "cell_type": "code",
   "execution_count": null,
   "id": "4eaf492d",
   "metadata": {},
   "outputs": [],
   "source": [
    "s=time.time()\n",
    "theta = np.random.randn(2,1) # random initialization\n",
    "eta = 0.1 # learning rate\n",
    "n_iterations = 1000\n",
    "m = len(X_train)\n",
    "\n",
    "for iteration in range(n_iterations):\n",
    "    gradients = 2/m * X_train.T.dot(X_train.dot(theta) - y_train)\n",
    "    theta = theta - eta * gradients\n",
    "\n",
    "e=time.time()"
   ]
  },
  {
   "cell_type": "code",
   "execution_count": null,
   "id": "dca7952d",
   "metadata": {},
   "outputs": [],
   "source": [
    "e-s"
   ]
  },
  {
   "cell_type": "markdown",
   "id": "7c8ce359",
   "metadata": {},
   "source": [
    "### Train/test split"
   ]
  },
  {
   "cell_type": "code",
   "execution_count": null,
   "id": "a8f3e18a",
   "metadata": {},
   "outputs": [],
   "source": [
    "X = amex_pca.to_numpy()[:,:9]\n",
    "y = amex_pca.to_numpy()[:,9:]\n",
    "\n",
    "# test/train\n",
    "X_train, X_test, y_train, y_test =train_test_split(\n",
    "                        X,y,\n",
    "                        test_size=0.33, random_state=42)"
   ]
  },
  {
   "cell_type": "markdown",
   "id": "7ee9dcce",
   "metadata": {},
   "source": [
    "<br><br>\n",
    "Decision tree on amex pca"
   ]
  },
  {
   "cell_type": "code",
   "execution_count": null,
   "id": "868128ec",
   "metadata": {},
   "outputs": [],
   "source": [
    "s=time.time()\n",
    "\n",
    "# Fit model\n",
    "dtpca=DecisionTreeClassifier()\n",
    "dtpca.fit(X_train,y_train)\n",
    "\n",
    "# predict:\n",
    "yhat=dtpca.predict(X_test)\n",
    "\n",
    "# Plotting the consusion matrix\n",
    "\n",
    "confusion_matrix = metrics.confusion_matrix(y_test, yhat)\n",
    "\n",
    "## Get metrics:\n",
    "TN=confusion_matrix[0][0]\n",
    "FP=confusion_matrix[0][1]\n",
    "FN=confusion_matrix[1][0]\n",
    "TP=confusion_matrix[1][1]\n",
    "\n",
    "\n",
    "#print metrics\n",
    "dtpca_recall = TP/(TP+FN)\n",
    "dtpca_specificity = 1-(FP/(TN+FP))\n",
    "dtpca_acc = (TP+TN)/(TP+FP+TN+FN)\n",
    "\n",
    "print('Accuracy: ' + str(round(dtpca_acc,3)))\n",
    "print('Specificity: ' + str(round(dtpca_specificity,3)))\n",
    "print('Recall: ' + str(round(dtpca_recall,3)))\n",
    "\n",
    "e=time.time()\n",
    "print('Time taken: {} secs'.format(round((e-s),2)))"
   ]
  },
  {
   "cell_type": "markdown",
   "id": "2bccc501",
   "metadata": {},
   "source": [
    "<br><br>\n",
    "Random Forest on amex pca"
   ]
  },
  {
   "cell_type": "code",
   "execution_count": null,
   "id": "4eaf3e9b",
   "metadata": {
    "scrolled": true
   },
   "outputs": [],
   "source": [
    "s3=time.time()\n",
    "# fit\n",
    "rfpca=RandomForestClassifier()\n",
    "rfpca.fit(X_train,y_train)\n",
    "\n",
    "# predict:\n",
    "yhat=rfpca.predict(X_test)\n",
    "\n",
    "# Creating the consusion matrix\n",
    "\n",
    "confusion_matrix = metrics.confusion_matrix(y_test, yhat)\n",
    "\n",
    "## Get metrics:\n",
    "TN=confusion_matrix[0][0]\n",
    "FP=confusion_matrix[0][1]\n",
    "FN=confusion_matrix[1][0]\n",
    "TP=confusion_matrix[1][1]\n",
    "\n",
    "\n",
    "#print metrics\n",
    "rfpca_recall = TP/(TP+FN)\n",
    "rfpca_specificity = 1-(FP/(TN+FP))\n",
    "rfpca_acc = (TP+TN)/(TP+FP+TN+FN)\n",
    "print('Accuracy: ' + str(round(rfpca_acc,3)))\n",
    "print('Specificity: ' + str(round(rfpca_specificity,3)))\n",
    "print('Recall: ' + str(round(rfpca_recall,3)))\n",
    "e3=time.time()\n",
    "print('Time taken: {} mins'.format(round((e3-s3)/60,2)))"
   ]
  },
  {
   "cell_type": "markdown",
   "id": "efe81a7b",
   "metadata": {},
   "source": [
    "</br>MLP neural network on pca"
   ]
  },
  {
   "cell_type": "code",
   "execution_count": null,
   "id": "dd34ca06",
   "metadata": {
    "scrolled": true
   },
   "outputs": [],
   "source": [
    "#Hyperparameters:\n",
    "layers= 8\n",
    "batch_size=48\n",
    "nodes=40\n",
    "activation = 'tanh'\n",
    "epochs=30\n",
    "initializer='random_normal'\n",
    "optimizer='Adam'\n",
    "learning_rate=0.001\n",
    "regularizer='l2'\n",
    "\n",
    "s=time.time()\n",
    "\n",
    "model_name='illumidesk'\n",
    "model = Sequential([\n",
    "Dense(units=nodes, input_shape=(9,), kernel_initializer = initializer, activation=activation)], name='illumidesk')\n",
    "\n",
    "for i in range(layers):\n",
    "    model.add(keras.layers.Dense(units=nodes, activation=activation, kernel_regularizer=regularizer))\n",
    "\n",
    "model.add(keras.layers.Dense(units=2,\n",
    "                name=\"Output-Layer\",\n",
    "                activation='softmax'))\n",
    "\n",
    "model.compile(optimizer=Adam(learning_rate=learning_rate), loss='sparse_categorical_crossentropy', metrics=['accuracy'])\n",
    "\n",
    "history=model.fit(x=X_train, y=y_train, batch_size=batch_size, epochs=epochs, shuffle=True, verbose=2, validation_split=0.15,validation_data=None)\n",
    "\n",
    "e=time.time()\n",
    "times_do[model_name]=round(e-s,3)"
   ]
  },
  {
   "cell_type": "code",
   "execution_count": null,
   "id": "9595b9e1",
   "metadata": {},
   "outputs": [],
   "source": [
    "times_do"
   ]
  },
  {
   "cell_type": "markdown",
   "id": "9e5b15f4",
   "metadata": {},
   "source": [
    "</br>MLP neural network on AMEX full"
   ]
  },
  {
   "cell_type": "code",
   "execution_count": null,
   "id": "632ce477",
   "metadata": {},
   "outputs": [],
   "source": [
    "X = amex.to_numpy()[:,:156]\n",
    "y = amex.to_numpy()[:,156:]\n",
    "\n",
    "# test/train\n",
    "X_train, X_test, y_train, y_test =train_test_split(\n",
    "                        X,y,\n",
    "                        test_size=0.33, random_state=42)"
   ]
  },
  {
   "cell_type": "code",
   "execution_count": null,
   "id": "ed0f0e70",
   "metadata": {},
   "outputs": [],
   "source": [
    "#Hyperparameters:\n",
    "layers= 8\n",
    "batch_size=48\n",
    "nodes=40\n",
    "activation = 'tanh'\n",
    "epochs=30\n",
    "initializer='random_normal'\n",
    "optimizer='Adam'\n",
    "learning_rate=0.001\n",
    "regularizer='l2'\n",
    "\n",
    "s=time.time()\n",
    "\n",
    "model_name='illumidesk2'\n",
    "model = Sequential([\n",
    "Dense(units=nodes, input_shape=(156,), kernel_initializer = initializer, activation=activation)], name='illumidesk2')\n",
    "\n",
    "for i in range(layers):\n",
    "    model.add(keras.layers.Dense(units=nodes, activation=activation, kernel_regularizer=regularizer))\n",
    "\n",
    "model.add(keras.layers.Dense(units=2,\n",
    "                name=\"Output-Layer\",\n",
    "                activation='softmax'))\n",
    "\n",
    "model.compile(optimizer=Adam(learning_rate=learning_rate), loss='sparse_categorical_crossentropy', metrics=['accuracy'])\n",
    "\n",
    "history=model.fit(x=X_train, y=y_train, batch_size=batch_size, epochs=epochs, shuffle=True, verbose=2, validation_split=0.15,validation_data=None)\n",
    "\n",
    "e=time.time()\n",
    "times_do[model_name]=round(e-s,3)"
   ]
  },
  {
   "cell_type": "code",
   "execution_count": null,
   "id": "5d5a87c6",
   "metadata": {},
   "outputs": [],
   "source": [
    "times_do"
   ]
  },
  {
   "cell_type": "code",
   "execution_count": null,
   "id": "e218eaeb",
   "metadata": {},
   "outputs": [],
   "source": [
    "MLP neural network on long"
   ]
  },
  {
   "cell_type": "code",
   "execution_count": null,
   "id": "be230154",
   "metadata": {},
   "outputs": [],
   "source": [
    "X = xlong\n",
    "y = ylong\n",
    "\n",
    "# test/train\n",
    "X_train, X_test, y_train, y_test =train_test_split(\n",
    "                        X,y,\n",
    "                        test_size=0.33, random_state=42)"
   ]
  },
  {
   "cell_type": "code",
   "execution_count": null,
   "id": "cf1e1629",
   "metadata": {},
   "outputs": [],
   "source": [
    "from keras import metrics"
   ]
  },
  {
   "cell_type": "markdown",
   "id": "3b8507c4",
   "metadata": {},
   "source": [
    "Below takes too long on my machine -> over 2 mins per epoch."
   ]
  },
  {
   "cell_type": "code",
   "execution_count": null,
   "id": "b1d14117",
   "metadata": {},
   "outputs": [],
   "source": [
    "#Hyperparameters:\n",
    "layers= 10\n",
    "batch_size=60\n",
    "nodes=32\n",
    "activation = 'relu'\n",
    "epochs=5\n",
    "initializer='random_normal'\n",
    "optimizer='Adam'\n",
    "learning_rate=0.01\n",
    "regularizer='l2'\n",
    "\n",
    "s=time.time()\n",
    "\n",
    "model_name='illumidesk_long'\n",
    "model = Sequential([\n",
    "Dense(units=nodes, input_shape=(1,), kernel_initializer = initializer, activation=activation)], name='illumidesk_long')\n",
    "\n",
    "for i in range(layers):\n",
    "    model.add(keras.layers.Dense(units=nodes, activation=activation, kernel_regularizer=regularizer))\n",
    "\n",
    "model.add(keras.layers.Dense(units=2,\n",
    "                name=\"Output-Layer\",\n",
    "                activation='relu'))\n",
    "\n",
    "model.compile(optimizer=Adam(learning_rate=learning_rate), loss=\"mean_squared_error\", metrics=['mse'])\n",
    "\n",
    "history=model.fit(x=X_train, y=y_train, batch_size=batch_size, epochs=epochs, shuffle=True, verbose=1, validation_split=0.15,validation_data=None)\n",
    "e=time.time()\n",
    "\n",
    "times_do[model_name]=round(e-s,3)"
   ]
  }
 ],
 "metadata": {
  "kernelspec": {
   "display_name": "Python 3 (ipykernel)",
   "language": "python",
   "name": "python3"
  },
  "language_info": {
   "codemirror_mode": {
    "name": "ipython",
    "version": 3
   },
   "file_extension": ".py",
   "mimetype": "text/x-python",
   "name": "python",
   "nbconvert_exporter": "python",
   "pygments_lexer": "ipython3",
   "version": "3.9.12"
  }
 },
 "nbformat": 4,
 "nbformat_minor": 5
}
